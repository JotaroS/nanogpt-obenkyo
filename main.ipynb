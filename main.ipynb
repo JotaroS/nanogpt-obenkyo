{
 "cells": [
  {
   "cell_type": "code",
   "execution_count": 1,
   "metadata": {},
   "outputs": [
    {
     "name": "stdout",
     "output_type": "stream",
     "text": [
      "First Citizen:\n",
      "Before we proceed any further, hear me speak.\n",
      "\n",
      "All:\n",
      "Speak, speak.\n",
      "\n",
      "First Citizen:\n",
      "You\n"
     ]
    }
   ],
   "source": [
    "src = \"\"\n",
    "with open(\"input.txt\", \"r\") as f:\n",
    "    src = f.read()\n",
    "print(src[:100])"
   ]
  },
  {
   "cell_type": "code",
   "execution_count": 2,
   "metadata": {},
   "outputs": [
    {
     "name": "stdout",
     "output_type": "stream",
     "text": [
      "\n",
      " !$&',-.3:;?ABCDEFGHIJKLMNOPQRSTUVWXYZabcdefghijklmnopqrstuvwxyz\n"
     ]
    }
   ],
   "source": [
    "dictionary = sorted(list(set(src)))\n",
    "# print dictionary as string\n",
    "print(\"\".join(dictionary))"
   ]
  },
  {
   "cell_type": "code",
   "execution_count": 3,
   "metadata": {},
   "outputs": [
    {
     "name": "stdout",
     "output_type": "stream",
     "text": [
      "[46, 47, 47, 1, 58, 46, 43, 56, 43]\n",
      "hii there\n"
     ]
    }
   ],
   "source": [
    "# encode string to dictionary index\n",
    "encode = lambda str: [dictionary.index(c) for c in str]\n",
    "decode  = lambda arr: \"\".join([dictionary[i] for i in arr])\n",
    "\n",
    "print(encode('hii there'))\n",
    "print(decode(encode('hii there')))"
   ]
  },
  {
   "cell_type": "code",
   "execution_count": 4,
   "metadata": {},
   "outputs": [
    {
     "data": {
      "text/plain": [
       "(139423, 8)"
      ]
     },
     "execution_count": 4,
     "metadata": {},
     "output_type": "execute_result"
    }
   ],
   "source": [
    "import numpy as np\n",
    "block_size = 8\n",
    "encoded_src = encode(src)\n",
    "vocab_size = len(dictionary)\n",
    "\n",
    "# reshpae encoded_src to N * blocksize\n",
    "data = [encoded_src[i:i+block_size] for i in range(0, len(encoded_src), block_size)][:-2]\n",
    "data = np.array(data)\n",
    "data.shape"
   ]
  },
  {
   "cell_type": "code",
   "execution_count": 5,
   "metadata": {},
   "outputs": [
    {
     "data": {
      "text/plain": [
       "(139423, 8)"
      ]
     },
     "execution_count": 5,
     "metadata": {},
     "output_type": "execute_result"
    }
   ],
   "source": [
    "# target is a one-shifted version of data\n",
    "target = [encoded_src[i+1:i+1+block_size] for i in range(0, len(encoded_src), block_size)][:-2]\n",
    "target = np.array(target)\n",
    "target.shape"
   ]
  },
  {
   "cell_type": "code",
   "execution_count": 6,
   "metadata": {},
   "outputs": [
    {
     "name": "stdout",
     "output_type": "stream",
     "text": [
      "(97596, 8) (97596, 8)\n",
      "(41827, 8) (41827, 8)\n"
     ]
    }
   ],
   "source": [
    "# training data is 70 percent of the data\n",
    "train_data = data[:int(len(data)*0.7)]\n",
    "train_target = target[:int(len(target)*0.7)]\n",
    "\n",
    "# valid data is 30 percent of the data\n",
    "valid_data = data[int(len(data)*0.7):]\n",
    "valid_target = target[int(len(target)*0.7):]\n",
    "\n",
    "print(train_data.shape, train_target.shape)\n",
    "print(valid_data.shape, valid_target.shape)"
   ]
  },
  {
   "cell_type": "code",
   "execution_count": 7,
   "metadata": {},
   "outputs": [
    {
     "data": {
      "text/plain": [
       "tensor([[18, 47, 56,  ...,  1, 15, 47],\n",
       "        [58, 47, 64,  ..., 10,  0, 14],\n",
       "        [43, 44, 53,  ...,  1, 61, 43],\n",
       "        ...,\n",
       "        [54, 56, 53,  ..., 57, 57,  7],\n",
       "        [57, 43, 56,  ..., 56,  6,  1],\n",
       "        [39,  1, 40,  ..., 50, 47, 44]])"
      ]
     },
     "execution_count": 7,
     "metadata": {},
     "output_type": "execute_result"
    }
   ],
   "source": [
    "import torch\n",
    "\n",
    "# create dataset (data type is long\n",
    "train_data = torch.from_numpy(train_data).long()\n",
    "train_target = torch.from_numpy(train_target).long()\n",
    "valid_data = torch.from_numpy(valid_data).long()\n",
    "valid_target = torch.from_numpy(valid_target).long()\n",
    "\n",
    "train_data"
   ]
  },
  {
   "cell_type": "code",
   "execution_count": 8,
   "metadata": {},
   "outputs": [
    {
     "name": "stdout",
     "output_type": "stream",
     "text": [
      "bn  wZAlZTrE,yypHTmxA\n",
      "lM;.HVslyFaY;xlOO'F!ZRW3fs$mtiNSVZ3hmnK$wGpgbR!Y'R-OXprEW$j?f CCW'QlSu;vNS;GTk\n"
     ]
    }
   ],
   "source": [
    "class BigramLanguageModel(torch.nn.Module):\n",
    "    def __init__(self, vocab_size):\n",
    "        super(BigramLanguageModel, self).__init__()\n",
    "        self.logits = torch.nn.Embedding(vocab_size, vocab_size)\n",
    "        \n",
    "    def forward(self, x, target):\n",
    "        x = self.logits(x)\n",
    "        loss = torch.nn.functional.cross_entropy(x.view(-1, vocab_size), target.view(-1))\n",
    "        return x, loss\n",
    "    \n",
    "    def generate(self, x, length):\n",
    "        res = []\n",
    "        for i in range(length):\n",
    "            x = self.logits(x)\n",
    "            # sample from multinomial distribution\n",
    "            x = torch.multinomial(torch.nn.functional.softmax(x.view(-1), dim=0), 1)\n",
    "            res.append(x)\n",
    "        return torch.stack(res, dim=0)\n",
    "model = BigramLanguageModel(vocab_size)\n",
    "\n",
    "pred = model.generate(torch.tensor([0]), 100)\n",
    "print(decode(pred.numpy().flatten()))\n"
   ]
  },
  {
   "cell_type": "code",
   "execution_count": 28,
   "metadata": {},
   "outputs": [
    {
     "name": "stdout",
     "output_type": "stream",
     "text": [
      "torch.Size([2, 8, 65]) tensor(4.4438, grad_fn=<NllLossBackward0>)\n"
     ]
    }
   ],
   "source": [
    "model = BigramLanguageModel(vocab_size)\n",
    "pred, loss = model(train_data[:2], train_target[:2])\n",
    "print(pred.shape, loss)\n"
   ]
  },
  {
   "cell_type": "code",
   "execution_count": 31,
   "metadata": {},
   "outputs": [
    {
     "name": "stdout",
     "output_type": "stream",
     "text": [
      "Epoch 0 Iter 0 Loss 2.604656219482422, valid loss 2.550445795059204\n",
      "Epoch 0 Iter 8000 Loss 2.4726223945617676, valid loss 2.531864881515503\n",
      "Epoch 0 Iter 16000 Loss 2.3724405765533447, valid loss 2.539384603500366\n",
      "Epoch 0 Iter 24000 Loss 2.4437637329101562, valid loss 2.5308194160461426\n",
      "Epoch 0 Iter 32000 Loss 2.426405429840088, valid loss 2.5329678058624268\n",
      "Epoch 0 Iter 40000 Loss 2.4686450958251953, valid loss 2.545179843902588\n",
      "Epoch 0 Iter 48000 Loss 2.536198139190674, valid loss 2.543801784515381\n",
      "Epoch 0 Iter 56000 Loss 2.4402151107788086, valid loss 2.547003984451294\n",
      "Epoch 0 Iter 64000 Loss 2.574610948562622, valid loss 2.521198034286499\n",
      "Epoch 0 Iter 72000 Loss 2.4009687900543213, valid loss 2.5248031616210938\n",
      "Epoch 0 Iter 80000 Loss 2.442500352859497, valid loss 2.5363430976867676\n",
      "Epoch 0 Iter 88000 Loss 2.450033187866211, valid loss 2.5474236011505127\n",
      "Epoch 0 Iter 96000 Loss 2.4987008571624756, valid loss 2.5182271003723145\n",
      "Epoch 1 Iter 0 Loss 2.5753285884857178, valid loss 2.5165772438049316\n",
      "Epoch 1 Iter 8000 Loss 2.4671764373779297, valid loss 2.5166354179382324\n",
      "Epoch 1 Iter 16000 Loss 2.3745882511138916, valid loss 2.5268020629882812\n",
      "Epoch 1 Iter 24000 Loss 2.4322636127471924, valid loss 2.5196242332458496\n",
      "Epoch 1 Iter 32000 Loss 2.4277167320251465, valid loss 2.5247960090637207\n",
      "Epoch 1 Iter 40000 Loss 2.4520602226257324, valid loss 2.5394234657287598\n",
      "Epoch 1 Iter 48000 Loss 2.521874189376831, valid loss 2.538144826889038\n",
      "Epoch 1 Iter 56000 Loss 2.433053493499756, valid loss 2.542097568511963\n",
      "Epoch 1 Iter 64000 Loss 2.561110496520996, valid loss 2.5191001892089844\n",
      "Epoch 1 Iter 72000 Loss 2.388516426086426, valid loss 2.5245766639709473\n",
      "Epoch 1 Iter 80000 Loss 2.4430437088012695, valid loss 2.5365118980407715\n",
      "Epoch 1 Iter 88000 Loss 2.445063829421997, valid loss 2.5478758811950684\n",
      "Epoch 1 Iter 96000 Loss 2.5003418922424316, valid loss 2.520256519317627\n",
      "Epoch 2 Iter 0 Loss 2.5782346725463867, valid loss 2.5186378955841064\n",
      "Epoch 2 Iter 8000 Loss 2.468907117843628, valid loss 2.517883539199829\n",
      "Epoch 2 Iter 16000 Loss 2.374925136566162, valid loss 2.5279247760772705\n",
      "Epoch 2 Iter 24000 Loss 2.433307409286499, valid loss 2.5204949378967285\n",
      "Epoch 2 Iter 32000 Loss 2.4276068210601807, valid loss 2.5258214473724365\n",
      "Epoch 2 Iter 40000 Loss 2.450395107269287, valid loss 2.5405383110046387\n",
      "Epoch 2 Iter 48000 Loss 2.519129753112793, valid loss 2.5393176078796387\n",
      "Epoch 2 Iter 56000 Loss 2.4321374893188477, valid loss 2.5433924198150635\n",
      "Epoch 2 Iter 64000 Loss 2.5591843128204346, valid loss 2.5205295085906982\n",
      "Epoch 2 Iter 72000 Loss 2.3881256580352783, valid loss 2.526277542114258\n",
      "Epoch 2 Iter 80000 Loss 2.4432363510131836, valid loss 2.5381295680999756\n",
      "Epoch 2 Iter 88000 Loss 2.444314479827881, valid loss 2.549490451812744\n",
      "Epoch 2 Iter 96000 Loss 2.5006442070007324, valid loss 2.5220468044281006\n",
      "Epoch 3 Iter 0 Loss 2.5788114070892334, valid loss 2.520449638366699\n",
      "Epoch 3 Iter 8000 Loss 2.4691197872161865, valid loss 2.5196499824523926\n",
      "Epoch 3 Iter 16000 Loss 2.374962091445923, valid loss 2.5296785831451416\n",
      "Epoch 3 Iter 24000 Loss 2.433701992034912, valid loss 2.522195339202881\n",
      "Epoch 3 Iter 32000 Loss 2.4275379180908203, valid loss 2.52754282951355\n",
      "Epoch 3 Iter 40000 Loss 2.4501044750213623, valid loss 2.542278528213501\n",
      "Epoch 3 Iter 48000 Loss 2.5183498859405518, valid loss 2.541076421737671\n",
      "Epoch 3 Iter 56000 Loss 2.432084321975708, valid loss 2.5451767444610596\n",
      "Epoch 3 Iter 64000 Loss 2.5589208602905273, valid loss 2.5223047733306885\n",
      "Epoch 3 Iter 72000 Loss 2.388140916824341, valid loss 2.5281076431274414\n",
      "Epoch 3 Iter 80000 Loss 2.4431989192962646, valid loss 2.53996205329895\n",
      "Epoch 3 Iter 88000 Loss 2.4441394805908203, valid loss 2.5513346195220947\n",
      "Epoch 3 Iter 96000 Loss 2.5008018016815186, valid loss 2.5239856243133545\n",
      "Epoch 4 Iter 0 Loss 2.5789144039154053, valid loss 2.522404670715332\n",
      "Epoch 4 Iter 8000 Loss 2.469132661819458, valid loss 2.5216071605682373\n",
      "Epoch 4 Iter 16000 Loss 2.3749709129333496, valid loss 2.531629800796509\n",
      "Epoch 4 Iter 24000 Loss 2.4338181018829346, valid loss 2.524136781692505\n",
      "Epoch 4 Iter 32000 Loss 2.4275131225585938, valid loss 2.5294902324676514\n",
      "Epoch 4 Iter 40000 Loss 2.450044870376587, valid loss 2.5442302227020264\n",
      "Epoch 4 Iter 48000 Loss 2.51816725730896, valid loss 2.5430338382720947\n",
      "Epoch 4 Iter 56000 Loss 2.4321541786193848, valid loss 2.547142505645752\n",
      "Epoch 4 Iter 64000 Loss 2.5589170455932617, valid loss 2.5242671966552734\n",
      "Epoch 4 Iter 72000 Loss 2.388150930404663, valid loss 2.5300793647766113\n",
      "Epoch 4 Iter 80000 Loss 2.443171977996826, valid loss 2.541935682296753\n",
      "Epoch 4 Iter 88000 Loss 2.444087505340576, valid loss 2.5533082485198975\n",
      "Epoch 4 Iter 96000 Loss 2.500875234603882, valid loss 2.525996208190918\n",
      "Epoch 5 Iter 0 Loss 2.578927993774414, valid loss 2.524421215057373\n",
      "Epoch 5 Iter 8000 Loss 2.4691245555877686, valid loss 2.523620367050171\n",
      "Epoch 5 Iter 16000 Loss 2.3749728202819824, valid loss 2.533634901046753\n",
      "Epoch 5 Iter 24000 Loss 2.4338502883911133, valid loss 2.526134729385376\n",
      "Epoch 5 Iter 32000 Loss 2.427503824234009, valid loss 2.531482696533203\n",
      "Epoch 5 Iter 40000 Loss 2.45002818107605, valid loss 2.546217441558838\n",
      "Epoch 5 Iter 48000 Loss 2.518122434616089, valid loss 2.5450186729431152\n",
      "Epoch 5 Iter 56000 Loss 2.4322004318237305, valid loss 2.5491228103637695\n",
      "Epoch 5 Iter 64000 Loss 2.558924436569214, valid loss 2.526240110397339\n",
      "Epoch 5 Iter 72000 Loss 2.3881466388702393, valid loss 2.532045602798462\n",
      "Epoch 5 Iter 80000 Loss 2.443159580230713, valid loss 2.543896198272705\n",
      "Epoch 5 Iter 88000 Loss 2.444068193435669, valid loss 2.5552589893341064\n",
      "Epoch 5 Iter 96000 Loss 2.5008938312530518, valid loss 2.5279481410980225\n",
      "Epoch 6 Iter 0 Loss 2.578927755355835, valid loss 2.5263733863830566\n",
      "Epoch 6 Iter 8000 Loss 2.4691178798675537, valid loss 2.525564432144165\n",
      "Epoch 6 Iter 16000 Loss 2.3749732971191406, valid loss 2.535567045211792\n",
      "Epoch 6 Iter 24000 Loss 2.433858871459961, valid loss 2.5280561447143555\n",
      "Epoch 6 Iter 32000 Loss 2.4275002479553223, valid loss 2.533390998840332\n",
      "Epoch 6 Iter 40000 Loss 2.4500224590301514, valid loss 2.5481112003326416\n",
      "Epoch 6 Iter 48000 Loss 2.5181057453155518, valid loss 2.546903133392334\n",
      "Epoch 6 Iter 56000 Loss 2.432222843170166, valid loss 2.550992727279663\n",
      "Epoch 6 Iter 64000 Loss 2.5589263439178467, valid loss 2.5280990600585938\n",
      "Epoch 6 Iter 72000 Loss 2.388141393661499, valid loss 2.5338902473449707\n",
      "Epoch 6 Iter 80000 Loss 2.4431538581848145, valid loss 2.5457284450531006\n",
      "Epoch 6 Iter 88000 Loss 2.4440596103668213, valid loss 2.5570716857910156\n",
      "Epoch 6 Iter 96000 Loss 2.500897169113159, valid loss 2.5297484397888184\n",
      "Epoch 7 Iter 0 Loss 2.578925848007202, valid loss 2.5281715393066406\n",
      "Epoch 7 Iter 8000 Loss 2.469113349914551, valid loss 2.5273501873016357\n",
      "Epoch 7 Iter 16000 Loss 2.3749732971191406, valid loss 2.537337303161621\n",
      "Epoch 7 Iter 24000 Loss 2.4338607788085938, valid loss 2.529811143875122\n",
      "Epoch 7 Iter 32000 Loss 2.4274983406066895, valid loss 2.535126209259033\n",
      "Epoch 7 Iter 40000 Loss 2.4500207901000977, valid loss 2.5498223304748535\n",
      "Epoch 7 Iter 48000 Loss 2.518096685409546, valid loss 2.5485994815826416\n",
      "Epoch 7 Iter 56000 Loss 2.4322338104248047, valid loss 2.5526673793792725\n",
      "Epoch 7 Iter 64000 Loss 2.558926820755005, valid loss 2.5297586917877197\n",
      "Epoch 7 Iter 72000 Loss 2.3881380558013916, valid loss 2.5355312824249268\n",
      "Epoch 7 Iter 80000 Loss 2.4431509971618652, valid loss 2.5473506450653076\n",
      "Epoch 7 Iter 88000 Loss 2.4440560340881348, valid loss 2.558668851852417\n",
      "Epoch 7 Iter 96000 Loss 2.500897169113159, valid loss 2.5313265323638916\n",
      "Epoch 8 Iter 0 Loss 2.5789246559143066, valid loss 2.529747724533081\n",
      "Epoch 8 Iter 8000 Loss 2.4691109657287598, valid loss 2.5289106369018555\n",
      "Epoch 8 Iter 16000 Loss 2.3749732971191406, valid loss 2.538879632949829\n",
      "Epoch 8 Iter 24000 Loss 2.433861255645752, valid loss 2.5313358306884766\n",
      "Epoch 8 Iter 32000 Loss 2.4274978637695312, valid loss 2.5366265773773193\n",
      "Epoch 8 Iter 40000 Loss 2.4500203132629395, valid loss 2.5512940883636475\n",
      "Epoch 8 Iter 48000 Loss 2.5180916786193848, valid loss 2.5500526428222656\n",
      "Epoch 8 Iter 56000 Loss 2.432239055633545, valid loss 2.5540950298309326\n",
      "Epoch 8 Iter 64000 Loss 2.558927059173584, valid loss 2.531169891357422\n",
      "Epoch 8 Iter 72000 Loss 2.388136148452759, valid loss 2.536923408508301\n",
      "Epoch 8 Iter 80000 Loss 2.443150043487549, valid loss 2.5487217903137207\n",
      "Epoch 8 Iter 88000 Loss 2.444054365158081, valid loss 2.5600125789642334\n",
      "Epoch 8 Iter 96000 Loss 2.5008974075317383, valid loss 2.532650947570801\n",
      "Epoch 9 Iter 0 Loss 2.578922986984253, valid loss 2.5310699939727783\n",
      "Epoch 9 Iter 8000 Loss 2.469109535217285, valid loss 2.530216932296753\n",
      "Epoch 9 Iter 16000 Loss 2.3749730587005615, valid loss 2.540168523788452\n",
      "Epoch 9 Iter 24000 Loss 2.4338607788085938, valid loss 2.532606840133667\n",
      "Epoch 9 Iter 32000 Loss 2.427497386932373, valid loss 2.5378730297088623\n",
      "Epoch 9 Iter 40000 Loss 2.4500203132629395, valid loss 2.55251145362854\n",
      "Epoch 9 Iter 48000 Loss 2.5180890560150146, valid loss 2.5512523651123047\n",
      "Epoch 9 Iter 56000 Loss 2.432241916656494, valid loss 2.555270195007324\n",
      "Epoch 9 Iter 64000 Loss 2.558927059173584, valid loss 2.53233003616333\n",
      "Epoch 9 Iter 72000 Loss 2.3881351947784424, valid loss 2.5380656719207764\n",
      "Epoch 9 Iter 80000 Loss 2.4431495666503906, valid loss 2.5498454570770264\n",
      "Epoch 9 Iter 88000 Loss 2.4440534114837646, valid loss 2.5611109733581543\n",
      "Epoch 9 Iter 96000 Loss 2.500897169113159, valid loss 2.5337319374084473\n",
      "Epoch 10 Iter 0 Loss 2.5789222717285156, valid loss 2.532149076461792\n",
      "Epoch 10 Iter 8000 Loss 2.4691083431243896, valid loss 2.5312821865081787\n",
      "Epoch 10 Iter 16000 Loss 2.3749732971191406, valid loss 2.5412189960479736\n",
      "Epoch 10 Iter 24000 Loss 2.4338607788085938, valid loss 2.5336410999298096\n",
      "Epoch 10 Iter 32000 Loss 2.427497386932373, valid loss 2.538886070251465\n",
      "Epoch 10 Iter 40000 Loss 2.4500203132629395, valid loss 2.5534987449645996\n",
      "Epoch 10 Iter 48000 Loss 2.518087148666382, valid loss 2.5522243976593018\n",
      "Epoch 10 Iter 56000 Loss 2.4322433471679688, valid loss 2.556220769882202\n",
      "Epoch 10 Iter 64000 Loss 2.558927059173584, valid loss 2.533268690109253\n",
      "Epoch 10 Iter 72000 Loss 2.388134717941284, valid loss 2.5389904975891113\n",
      "Epoch 10 Iter 80000 Loss 2.4431490898132324, valid loss 2.5507540702819824\n",
      "Epoch 10 Iter 88000 Loss 2.4440531730651855, valid loss 2.5619990825653076\n",
      "Epoch 10 Iter 96000 Loss 2.500897169113159, valid loss 2.5346059799194336\n",
      "Epoch 11 Iter 0 Loss 2.5789217948913574, valid loss 2.5330212116241455\n",
      "Epoch 11 Iter 8000 Loss 2.4691078662872314, valid loss 2.5321438312530518\n",
      "Epoch 11 Iter 16000 Loss 2.3749730587005615, valid loss 2.54206919670105\n",
      "Epoch 11 Iter 24000 Loss 2.4338605403900146, valid loss 2.534478187561035\n",
      "Epoch 11 Iter 32000 Loss 2.427497148513794, valid loss 2.539706230163574\n",
      "Epoch 11 Iter 40000 Loss 2.4500203132629395, valid loss 2.554297924041748\n",
      "Epoch 11 Iter 48000 Loss 2.5180857181549072, valid loss 2.553011417388916\n",
      "Epoch 11 Iter 56000 Loss 2.432244062423706, valid loss 2.5569918155670166\n",
      "Epoch 11 Iter 64000 Loss 2.558927059173584, valid loss 2.5340301990509033\n",
      "Epoch 11 Iter 72000 Loss 2.388134717941284, valid loss 2.539740800857544\n",
      "Epoch 11 Iter 80000 Loss 2.4431490898132324, valid loss 2.551492214202881\n",
      "Epoch 11 Iter 88000 Loss 2.4440529346466064, valid loss 2.5627217292785645\n",
      "Epoch 11 Iter 96000 Loss 2.500897169113159, valid loss 2.5353176593780518\n",
      "Epoch 12 Iter 0 Loss 2.578921318054199, valid loss 2.533731460571289\n",
      "Epoch 12 Iter 8000 Loss 2.4691073894500732, valid loss 2.532845973968506\n",
      "Epoch 12 Iter 16000 Loss 2.3749728202819824, valid loss 2.542762279510498\n",
      "Epoch 12 Iter 24000 Loss 2.4338607788085938, valid loss 2.5351617336273193\n",
      "Epoch 12 Iter 32000 Loss 2.427496910095215, valid loss 2.540377140045166\n",
      "Epoch 12 Iter 40000 Loss 2.4500203132629395, valid loss 2.554952621459961\n",
      "Epoch 12 Iter 48000 Loss 2.51808500289917, valid loss 2.5536577701568604\n",
      "Epoch 12 Iter 56000 Loss 2.4322445392608643, valid loss 2.5576252937316895\n",
      "Epoch 12 Iter 64000 Loss 2.558927059173584, valid loss 2.534656047821045\n",
      "Epoch 12 Iter 72000 Loss 2.388134241104126, valid loss 2.5403590202331543\n",
      "Epoch 12 Iter 80000 Loss 2.443148612976074, valid loss 2.5521016120910645\n",
      "Epoch 12 Iter 88000 Loss 2.4440529346466064, valid loss 2.563318967819214\n",
      "Epoch 12 Iter 96000 Loss 2.500897169113159, valid loss 2.535907030105591\n",
      "Epoch 13 Iter 0 Loss 2.578921318054199, valid loss 2.5343196392059326\n",
      "Epoch 13 Iter 8000 Loss 2.469107151031494, valid loss 2.533428430557251\n",
      "Epoch 13 Iter 16000 Loss 2.3749730587005615, valid loss 2.543337821960449\n",
      "Epoch 13 Iter 24000 Loss 2.4338603019714355, valid loss 2.5357303619384766\n",
      "Epoch 13 Iter 32000 Loss 2.427496910095215, valid loss 2.540936231613159\n",
      "Epoch 13 Iter 40000 Loss 2.4500203132629395, valid loss 2.555499792098999\n",
      "Epoch 13 Iter 48000 Loss 2.5180842876434326, valid loss 2.5541975498199463\n",
      "Epoch 13 Iter 56000 Loss 2.4322450160980225, valid loss 2.5581562519073486\n",
      "Epoch 13 Iter 64000 Loss 2.558926582336426, valid loss 2.5351815223693848\n",
      "Epoch 13 Iter 72000 Loss 2.388134241104126, valid loss 2.5408782958984375\n",
      "Epoch 13 Iter 80000 Loss 2.443148612976074, valid loss 2.552614212036133\n",
      "Epoch 13 Iter 88000 Loss 2.4440529346466064, valid loss 2.5638229846954346\n",
      "Epoch 13 Iter 96000 Loss 2.500897169113159, valid loss 2.536405086517334\n",
      "Epoch 14 Iter 0 Loss 2.578920841217041, valid loss 2.5348167419433594\n",
      "Epoch 14 Iter 8000 Loss 2.469106912612915, valid loss 2.533921003341675\n",
      "Epoch 14 Iter 16000 Loss 2.3749728202819824, valid loss 2.543825626373291\n",
      "Epoch 14 Iter 24000 Loss 2.4338605403900146, valid loss 2.536212682723999\n",
      "Epoch 14 Iter 32000 Loss 2.427496910095215, valid loss 2.5414113998413086\n",
      "Epoch 14 Iter 40000 Loss 2.4500203132629395, valid loss 2.5559661388397217\n",
      "Epoch 14 Iter 48000 Loss 2.5180840492248535, valid loss 2.5546586513519287\n",
      "Epoch 14 Iter 56000 Loss 2.4322450160980225, valid loss 2.558610439300537\n",
      "Epoch 14 Iter 64000 Loss 2.558926582336426, valid loss 2.5356318950653076\n",
      "Epoch 14 Iter 72000 Loss 2.388134002685547, valid loss 2.5413241386413574\n",
      "Epoch 14 Iter 80000 Loss 2.443148612976074, valid loss 2.5530550479888916\n",
      "Epoch 14 Iter 88000 Loss 2.4440526962280273, valid loss 2.5642566680908203\n",
      "Epoch 14 Iter 96000 Loss 2.500897169113159, valid loss 2.536834239959717\n",
      "Epoch 15 Iter 0 Loss 2.578920602798462, valid loss 2.535245656967163\n",
      "Epoch 15 Iter 8000 Loss 2.469106674194336, valid loss 2.534346342086792\n",
      "Epoch 15 Iter 16000 Loss 2.3749728202819824, valid loss 2.5442473888397217\n",
      "Epoch 15 Iter 24000 Loss 2.4338603019714355, valid loss 2.536630153656006\n",
      "Epoch 15 Iter 32000 Loss 2.427496910095215, valid loss 2.541823387145996\n",
      "Epoch 15 Iter 40000 Loss 2.4500203132629395, valid loss 2.5563712120056152\n",
      "Epoch 15 Iter 48000 Loss 2.5180838108062744, valid loss 2.555060386657715\n",
      "Epoch 15 Iter 56000 Loss 2.4322450160980225, valid loss 2.5590059757232666\n",
      "Epoch 15 Iter 64000 Loss 2.558926582336426, valid loss 2.536024570465088\n",
      "Epoch 15 Iter 72000 Loss 2.388134241104126, valid loss 2.541713237762451\n",
      "Epoch 15 Iter 80000 Loss 2.443148612976074, valid loss 2.5534400939941406\n",
      "Epoch 15 Iter 88000 Loss 2.4440526962280273, valid loss 2.5646369457244873\n",
      "Epoch 15 Iter 96000 Loss 2.500897169113159, valid loss 2.537210702896118\n",
      "Epoch 16 Iter 0 Loss 2.578920364379883, valid loss 2.5356218814849854\n",
      "Epoch 16 Iter 8000 Loss 2.469106435775757, valid loss 2.534719944000244\n",
      "Epoch 16 Iter 16000 Loss 2.3749728202819824, valid loss 2.5446181297302246\n",
      "Epoch 16 Iter 24000 Loss 2.4338603019714355, valid loss 2.5369975566864014\n",
      "Epoch 16 Iter 32000 Loss 2.427496910095215, valid loss 2.542186737060547\n",
      "Epoch 16 Iter 40000 Loss 2.4500203132629395, valid loss 2.5567288398742676\n",
      "Epoch 16 Iter 48000 Loss 2.518083333969116, valid loss 2.555415153503418\n",
      "Epoch 16 Iter 56000 Loss 2.4322450160980225, valid loss 2.559356689453125\n",
      "Epoch 16 Iter 64000 Loss 2.5589263439178467, valid loss 2.5363729000091553\n",
      "Epoch 16 Iter 72000 Loss 2.3881337642669678, valid loss 2.5420587062835693\n",
      "Epoch 16 Iter 80000 Loss 2.443148612976074, valid loss 2.5537829399108887\n",
      "Epoch 16 Iter 88000 Loss 2.4440526962280273, valid loss 2.5649755001068115\n",
      "Epoch 16 Iter 96000 Loss 2.500897169113159, valid loss 2.537546157836914\n",
      "Epoch 17 Iter 0 Loss 2.578920364379883, valid loss 2.535957098007202\n",
      "Epoch 17 Iter 8000 Loss 2.469106435775757, valid loss 2.53505277633667\n",
      "Epoch 17 Iter 16000 Loss 2.3749730587005615, valid loss 2.5449488162994385\n",
      "Epoch 17 Iter 24000 Loss 2.4338603019714355, valid loss 2.537325620651245\n",
      "Epoch 17 Iter 32000 Loss 2.4274964332580566, valid loss 2.5425117015838623\n",
      "Epoch 17 Iter 40000 Loss 2.4500203132629395, valid loss 2.55704927444458\n",
      "Epoch 17 Iter 48000 Loss 2.518083333969116, valid loss 2.5557332038879395\n",
      "Epoch 17 Iter 56000 Loss 2.4322450160980225, valid loss 2.559671401977539\n",
      "Epoch 17 Iter 64000 Loss 2.5589263439178467, valid loss 2.5366852283477783\n",
      "Epoch 17 Iter 72000 Loss 2.3881337642669678, valid loss 2.5423693656921387\n",
      "Epoch 17 Iter 80000 Loss 2.443148612976074, valid loss 2.554090738296509\n",
      "Epoch 17 Iter 88000 Loss 2.4440526962280273, valid loss 2.565279722213745\n",
      "Epoch 17 Iter 96000 Loss 2.500897169113159, valid loss 2.537848711013794\n",
      "Epoch 18 Iter 0 Loss 2.578920364379883, valid loss 2.5362589359283447\n",
      "Epoch 18 Iter 8000 Loss 2.469106435775757, valid loss 2.535353660583496\n",
      "Epoch 18 Iter 16000 Loss 2.3749730587005615, valid loss 2.5452470779418945\n",
      "Epoch 18 Iter 24000 Loss 2.4338603019714355, valid loss 2.5376219749450684\n",
      "Epoch 18 Iter 32000 Loss 2.4274964332580566, valid loss 2.5428054332733154\n",
      "Epoch 18 Iter 40000 Loss 2.4500203132629395, valid loss 2.557339906692505\n",
      "Epoch 18 Iter 48000 Loss 2.518083333969116, valid loss 2.556021213531494\n",
      "Epoch 18 Iter 56000 Loss 2.4322450160980225, valid loss 2.5599567890167236\n",
      "Epoch 18 Iter 64000 Loss 2.5589263439178467, valid loss 2.5369691848754883\n",
      "Epoch 18 Iter 72000 Loss 2.3881337642669678, valid loss 2.542651414871216\n",
      "Epoch 18 Iter 80000 Loss 2.443148612976074, valid loss 2.554370641708374\n",
      "Epoch 18 Iter 88000 Loss 2.4440524578094482, valid loss 2.5655570030212402\n",
      "Epoch 18 Iter 96000 Loss 2.500897169113159, valid loss 2.538123846054077\n",
      "Epoch 19 Iter 0 Loss 2.578920364379883, valid loss 2.536534070968628\n",
      "Epoch 19 Iter 8000 Loss 2.469106435775757, valid loss 2.5356271266937256\n",
      "Epoch 19 Iter 16000 Loss 2.3749728202819824, valid loss 2.5455188751220703\n",
      "Epoch 19 Iter 24000 Loss 2.4338603019714355, valid loss 2.5378923416137695\n",
      "Epoch 19 Iter 32000 Loss 2.4274964332580566, valid loss 2.5430731773376465\n",
      "Epoch 19 Iter 40000 Loss 2.4500203132629395, valid loss 2.5576047897338867\n",
      "Epoch 19 Iter 48000 Loss 2.518083333969116, valid loss 2.5562849044799805\n",
      "Epoch 19 Iter 56000 Loss 2.4322450160980225, valid loss 2.560218095779419\n",
      "Epoch 19 Iter 64000 Loss 2.5589261054992676, valid loss 2.537229299545288\n",
      "Epoch 19 Iter 72000 Loss 2.3881337642669678, valid loss 2.542909622192383\n",
      "Epoch 19 Iter 80000 Loss 2.443148612976074, valid loss 2.5546274185180664\n",
      "Epoch 19 Iter 88000 Loss 2.4440524578094482, valid loss 2.5658111572265625\n",
      "Epoch 19 Iter 96000 Loss 2.500897169113159, valid loss 2.538376569747925\n",
      "Epoch 20 Iter 0 Loss 2.578920364379883, valid loss 2.5367865562438965\n",
      "Epoch 20 Iter 8000 Loss 2.469106435775757, valid loss 2.5358781814575195\n",
      "Epoch 20 Iter 16000 Loss 2.3749730587005615, valid loss 2.545768976211548\n",
      "Epoch 20 Iter 24000 Loss 2.4338603019714355, valid loss 2.5381407737731934\n",
      "Epoch 20 Iter 32000 Loss 2.4274966716766357, valid loss 2.5433199405670166\n",
      "Epoch 20 Iter 40000 Loss 2.4500203132629395, valid loss 2.557849407196045\n",
      "Epoch 20 Iter 48000 Loss 2.518083333969116, valid loss 2.556527614593506\n",
      "Epoch 20 Iter 56000 Loss 2.4322450160980225, valid loss 2.5604588985443115\n",
      "Epoch 20 Iter 64000 Loss 2.5589261054992676, valid loss 2.5374691486358643\n",
      "Epoch 20 Iter 72000 Loss 2.3881337642669678, valid loss 2.5431478023529053\n",
      "Epoch 20 Iter 80000 Loss 2.443148612976074, valid loss 2.5548641681671143\n",
      "Epoch 20 Iter 88000 Loss 2.4440524578094482, valid loss 2.5660464763641357\n",
      "Epoch 20 Iter 96000 Loss 2.50089693069458, valid loss 2.5386102199554443\n",
      "Epoch 21 Iter 0 Loss 2.578920364379883, valid loss 2.537019968032837\n",
      "Epoch 21 Iter 8000 Loss 2.469106435775757, valid loss 2.5361106395721436\n",
      "Epoch 21 Iter 16000 Loss 2.3749730587005615, valid loss 2.5460002422332764\n",
      "Epoch 21 Iter 24000 Loss 2.4338603019714355, valid loss 2.5383708477020264\n",
      "Epoch 21 Iter 32000 Loss 2.4274966716766357, valid loss 2.543548345565796\n",
      "Epoch 21 Iter 40000 Loss 2.4500203132629395, valid loss 2.558075428009033\n",
      "Epoch 21 Iter 48000 Loss 2.518083333969116, valid loss 2.556752920150757\n",
      "Epoch 21 Iter 56000 Loss 2.4322450160980225, valid loss 2.560682535171509\n",
      "Epoch 21 Iter 64000 Loss 2.5589261054992676, valid loss 2.537691593170166\n",
      "Epoch 21 Iter 72000 Loss 2.3881337642669678, valid loss 2.5433695316314697\n",
      "Epoch 21 Iter 80000 Loss 2.443148612976074, valid loss 2.555084466934204\n",
      "Epoch 21 Iter 88000 Loss 2.4440524578094482, valid loss 2.5662648677825928\n",
      "Epoch 21 Iter 96000 Loss 2.50089693069458, valid loss 2.538827657699585\n",
      "Epoch 22 Iter 0 Loss 2.578920364379883, valid loss 2.5372371673583984\n",
      "Epoch 22 Iter 8000 Loss 2.469106435775757, valid loss 2.5363266468048096\n",
      "Epoch 22 Iter 16000 Loss 2.3749728202819824, valid loss 2.546215534210205\n",
      "Epoch 22 Iter 24000 Loss 2.4338603019714355, valid loss 2.5385851860046387\n",
      "Epoch 22 Iter 32000 Loss 2.427496910095215, valid loss 2.5437612533569336\n",
      "Epoch 22 Iter 40000 Loss 2.4500203132629395, valid loss 2.558286666870117\n",
      "Epoch 22 Iter 48000 Loss 2.518083333969116, valid loss 2.5569629669189453\n",
      "Epoch 22 Iter 56000 Loss 2.4322450160980225, valid loss 2.5608909130096436\n",
      "Epoch 22 Iter 64000 Loss 2.5589261054992676, valid loss 2.5378992557525635\n",
      "Epoch 22 Iter 72000 Loss 2.3881337642669678, valid loss 2.543576240539551\n",
      "Epoch 22 Iter 80000 Loss 2.443148612976074, valid loss 2.5552902221679688\n",
      "Epoch 22 Iter 88000 Loss 2.4440524578094482, valid loss 2.5664689540863037\n",
      "Epoch 22 Iter 96000 Loss 2.50089693069458, valid loss 2.5390305519104004\n",
      "Epoch 23 Iter 0 Loss 2.578920364379883, valid loss 2.537440299987793\n",
      "Epoch 23 Iter 8000 Loss 2.469106435775757, valid loss 2.536529302597046\n",
      "Epoch 23 Iter 16000 Loss 2.3749730587005615, valid loss 2.546416759490967\n",
      "Epoch 23 Iter 24000 Loss 2.4338603019714355, valid loss 2.538785696029663\n",
      "Epoch 23 Iter 32000 Loss 2.427496910095215, valid loss 2.5439605712890625\n",
      "Epoch 23 Iter 40000 Loss 2.4500203132629395, valid loss 2.5584843158721924\n",
      "Epoch 23 Iter 48000 Loss 2.518082857131958, valid loss 2.557159662246704\n",
      "Epoch 23 Iter 56000 Loss 2.4322450160980225, valid loss 2.561086416244507\n",
      "Epoch 23 Iter 64000 Loss 2.5589261054992676, valid loss 2.5380942821502686\n",
      "Epoch 23 Iter 72000 Loss 2.3881337642669678, valid loss 2.5437698364257812\n",
      "Epoch 23 Iter 80000 Loss 2.443148374557495, valid loss 2.555482864379883\n",
      "Epoch 23 Iter 88000 Loss 2.4440524578094482, valid loss 2.5666606426239014\n",
      "Epoch 23 Iter 96000 Loss 2.50089693069458, valid loss 2.5392215251922607\n",
      "Epoch 24 Iter 0 Loss 2.578920364379883, valid loss 2.537630796432495\n",
      "Epoch 24 Iter 8000 Loss 2.469106435775757, valid loss 2.5367190837860107\n",
      "Epoch 24 Iter 16000 Loss 2.3749728202819824, valid loss 2.5466060638427734\n",
      "Epoch 24 Iter 24000 Loss 2.4338603019714355, valid loss 2.5389740467071533\n",
      "Epoch 24 Iter 32000 Loss 2.4274964332580566, valid loss 2.5441477298736572\n",
      "Epoch 24 Iter 40000 Loss 2.4500203132629395, valid loss 2.5586705207824707\n",
      "Epoch 24 Iter 48000 Loss 2.518082857131958, valid loss 2.557344913482666\n",
      "Epoch 24 Iter 56000 Loss 2.4322450160980225, valid loss 2.5612707138061523\n",
      "Epoch 24 Iter 64000 Loss 2.5589261054992676, valid loss 2.5382773876190186\n",
      "Epoch 24 Iter 72000 Loss 2.3881337642669678, valid loss 2.543952703475952\n",
      "Epoch 24 Iter 80000 Loss 2.443148374557495, valid loss 2.5556647777557373\n",
      "Epoch 24 Iter 88000 Loss 2.4440524578094482, valid loss 2.5668411254882812\n",
      "Epoch 24 Iter 96000 Loss 2.500897169113159, valid loss 2.5394012928009033\n",
      "Epoch 25 Iter 0 Loss 2.578920364379883, valid loss 2.537810802459717\n",
      "Epoch 25 Iter 8000 Loss 2.469106435775757, valid loss 2.536898136138916\n",
      "Epoch 25 Iter 16000 Loss 2.3749728202819824, valid loss 2.5467848777770996\n",
      "Epoch 25 Iter 24000 Loss 2.4338603019714355, valid loss 2.539152145385742\n",
      "Epoch 25 Iter 32000 Loss 2.4274964332580566, valid loss 2.5443246364593506\n",
      "Epoch 25 Iter 40000 Loss 2.4500203132629395, valid loss 2.5588462352752686\n",
      "Epoch 25 Iter 48000 Loss 2.518082857131958, valid loss 2.5575199127197266\n",
      "Epoch 25 Iter 56000 Loss 2.4322450160980225, valid loss 2.5614447593688965\n",
      "Epoch 25 Iter 64000 Loss 2.5589261054992676, valid loss 2.5384507179260254\n",
      "Epoch 25 Iter 72000 Loss 2.3881337642669678, valid loss 2.544125556945801\n",
      "Epoch 25 Iter 80000 Loss 2.443148374557495, valid loss 2.5558366775512695\n",
      "Epoch 25 Iter 88000 Loss 2.4440524578094482, valid loss 2.567012310028076\n",
      "Epoch 25 Iter 96000 Loss 2.500897169113159, valid loss 2.539571523666382\n",
      "Epoch 26 Iter 0 Loss 2.5789201259613037, valid loss 2.5379810333251953\n",
      "Epoch 26 Iter 8000 Loss 2.469106435775757, valid loss 2.5370681285858154\n",
      "Epoch 26 Iter 16000 Loss 2.3749730587005615, valid loss 2.5469539165496826\n",
      "Epoch 26 Iter 24000 Loss 2.4338603019714355, valid loss 2.539320230484009\n",
      "Epoch 26 Iter 32000 Loss 2.4274964332580566, valid loss 2.544492483139038\n",
      "Epoch 26 Iter 40000 Loss 2.4500203132629395, valid loss 2.5590124130249023\n",
      "Epoch 26 Iter 48000 Loss 2.518082857131958, valid loss 2.557685613632202\n",
      "Epoch 26 Iter 56000 Loss 2.4322450160980225, valid loss 2.5616095066070557\n",
      "Epoch 26 Iter 64000 Loss 2.5589261054992676, valid loss 2.5386152267456055\n",
      "Epoch 26 Iter 72000 Loss 2.3881337642669678, valid loss 2.5442895889282227\n",
      "Epoch 26 Iter 80000 Loss 2.443148612976074, valid loss 2.555999755859375\n",
      "Epoch 26 Iter 88000 Loss 2.4440524578094482, valid loss 2.5671746730804443\n",
      "Epoch 26 Iter 96000 Loss 2.500897169113159, valid loss 2.5397331714630127\n",
      "Epoch 27 Iter 0 Loss 2.578920364379883, valid loss 2.538142681121826\n",
      "Epoch 27 Iter 8000 Loss 2.469106435775757, valid loss 2.537229061126709\n",
      "Epoch 27 Iter 16000 Loss 2.3749728202819824, valid loss 2.547114372253418\n",
      "Epoch 27 Iter 24000 Loss 2.4338603019714355, valid loss 2.539480209350586\n",
      "Epoch 27 Iter 32000 Loss 2.4274964332580566, valid loss 2.544651508331299\n",
      "Epoch 27 Iter 40000 Loss 2.4500203132629395, valid loss 2.559170722961426\n",
      "Epoch 27 Iter 48000 Loss 2.518082857131958, valid loss 2.5578434467315674\n",
      "Epoch 27 Iter 56000 Loss 2.4322450160980225, valid loss 2.5617666244506836\n",
      "Epoch 27 Iter 64000 Loss 2.5589261054992676, valid loss 2.538771629333496\n",
      "Epoch 27 Iter 72000 Loss 2.3881337642669678, valid loss 2.544445276260376\n",
      "Epoch 27 Iter 80000 Loss 2.443148612976074, valid loss 2.556155204772949\n",
      "Epoch 27 Iter 88000 Loss 2.4440524578094482, valid loss 2.567329168319702\n",
      "Epoch 27 Iter 96000 Loss 2.500897169113159, valid loss 2.539886951446533\n",
      "Epoch 28 Iter 0 Loss 2.578920364379883, valid loss 2.5382964611053467\n",
      "Epoch 28 Iter 8000 Loss 2.469106435775757, valid loss 2.5373826026916504\n",
      "Epoch 28 Iter 16000 Loss 2.3749728202819824, valid loss 2.547266960144043\n",
      "Epoch 28 Iter 24000 Loss 2.4338603019714355, valid loss 2.539632797241211\n",
      "Epoch 28 Iter 32000 Loss 2.4274964332580566, valid loss 2.5448031425476074\n",
      "Epoch 28 Iter 40000 Loss 2.4500203132629395, valid loss 2.559321641921997\n",
      "Epoch 28 Iter 48000 Loss 2.518082857131958, valid loss 2.5579936504364014\n",
      "Epoch 28 Iter 56000 Loss 2.4322450160980225, valid loss 2.5619161128997803\n",
      "Epoch 28 Iter 64000 Loss 2.5589261054992676, valid loss 2.5389206409454346\n",
      "Epoch 28 Iter 72000 Loss 2.3881337642669678, valid loss 2.5445938110351562\n",
      "Epoch 28 Iter 80000 Loss 2.443148612976074, valid loss 2.5563032627105713\n",
      "Epoch 28 Iter 88000 Loss 2.4440524578094482, valid loss 2.567476511001587\n",
      "Epoch 28 Iter 96000 Loss 2.500897169113159, valid loss 2.540034055709839\n",
      "Epoch 29 Iter 0 Loss 2.578920364379883, valid loss 2.538443088531494\n",
      "Epoch 29 Iter 8000 Loss 2.469106435775757, valid loss 2.5375287532806396\n",
      "Epoch 29 Iter 16000 Loss 2.3749728202819824, valid loss 2.5474131107330322\n",
      "Epoch 29 Iter 24000 Loss 2.4338603019714355, valid loss 2.539778232574463\n",
      "Epoch 29 Iter 32000 Loss 2.427496910095215, valid loss 2.544948101043701\n",
      "Epoch 29 Iter 40000 Loss 2.4500203132629395, valid loss 2.5594658851623535\n",
      "Epoch 29 Iter 48000 Loss 2.518082857131958, valid loss 2.5581376552581787\n",
      "Epoch 29 Iter 56000 Loss 2.4322450160980225, valid loss 2.5620594024658203\n",
      "Epoch 29 Iter 64000 Loss 2.5589261054992676, valid loss 2.5390632152557373\n",
      "Epoch 29 Iter 72000 Loss 2.3881337642669678, valid loss 2.544736385345459\n",
      "Epoch 29 Iter 80000 Loss 2.443148612976074, valid loss 2.5564448833465576\n",
      "Epoch 29 Iter 88000 Loss 2.4440524578094482, valid loss 2.567617177963257\n",
      "Epoch 29 Iter 96000 Loss 2.500897169113159, valid loss 2.5401744842529297\n"
     ]
    }
   ],
   "source": [
    "#training loop\n",
    "batch_size = 64\n",
    "optimizer = torch.optim.Adam(model.parameters(), lr=0.01)\n",
    "\n",
    "losses = []\n",
    "val_losses = []\n",
    "\n",
    "for epoch in range(30):\n",
    "    for i in range(0, len(train_data), batch_size):\n",
    "        x = train_data[i:i+batch_size]\n",
    "        target = train_target[i:i+batch_size]\n",
    "        optimizer.zero_grad(set_to_none=True)\n",
    "        pred, loss = model(x, target)\n",
    "        loss.backward()\n",
    "        optimizer.step()\n",
    "        if i % 1000 == 0:\n",
    "            val_loss = model(valid_data, valid_target)[1].item()\n",
    "            print(f\"Epoch {epoch} Iter {i} Loss {loss.item()}, valid loss {val_loss}\")\n",
    "            losses.append(loss.item())\n",
    "            val_losses.append(val_loss)\n",
    "            # print(decode(pred.numpy().flatten()))\n"
   ]
  },
  {
   "cell_type": "code",
   "execution_count": 32,
   "metadata": {},
   "outputs": [
    {
     "data": {
      "text/plain": [
       "<matplotlib.legend.Legend at 0x20299cd6cd0>"
      ]
     },
     "execution_count": 32,
     "metadata": {},
     "output_type": "execute_result"
    },
    {
     "data": {
      "image/png": "[encoded data removed]",
      "text/plain": [
       "<Figure size 640x480 with 1 Axes>"
      ]
     },
     "metadata": {},
     "output_type": "display_data"
    }
   ],
   "source": [
    "import matplotlib.pyplot as plt\n",
    "gen_text = lambda model, length: decode(model.generate(torch.tensor([0]), length).numpy().flatten())\n",
    "# plot moveing average of losses (remove zeros)\n",
    "#plot text on the right upper corner\n",
    "plt.title(\"Loss\")\n",
    "# plt.plot(np.convolve(losses, np.ones(100)/100, mode='valid'), label=gen_text(model, 100))\n",
    "# plt.plot(np.convolve(val_losses, np.ones(100)/100, mode='valid'))\n",
    "plt.plot(losses, label=\"train\")\n",
    "plt.plot(val_losses, label=\"valid\")\n",
    "plt.legend()\n"
   ]
  },
  {
   "cell_type": "code",
   "execution_count": 33,
   "metadata": {},
   "outputs": [
    {
     "name": "stdout",
     "output_type": "stream",
     "text": [
      "HAl m'sth s inor t m tithend g Thon my aviffaleve, toowbrsthes fous serse,\n",
      "Tony\n",
      "Halon\n",
      "CEOfe t g f beden l atr gloks beseestys s sorals where whorcce h heten, f berend thead, t!\n",
      "Mare.\n",
      "F y; a HAncetore \n"
     ]
    }
   ],
   "source": [
    "print(gen_text(model, 200))"
   ]
  },
  {
   "cell_type": "code",
   "execution_count": 34,
   "metadata": {},
   "outputs": [
    {
     "data": {
      "text/plain": [
       "torch.Size([97596, 8])"
      ]
     },
     "execution_count": 34,
     "metadata": {},
     "output_type": "execute_result"
    }
   ],
   "source": [
    "train_data.shape"
   ]
  },
  {
   "cell_type": "code",
   "execution_count": 55,
   "metadata": {},
   "outputs": [
    {
     "data": {
      "text/plain": [
       "tensor([[1.0000, 0.0000, 0.0000, 0.0000, 0.0000, 0.0000, 0.0000, 0.0000],\n",
       "        [0.5000, 0.5000, 0.0000, 0.0000, 0.0000, 0.0000, 0.0000, 0.0000],\n",
       "        [0.3333, 0.3333, 0.3333, 0.0000, 0.0000, 0.0000, 0.0000, 0.0000],\n",
       "        [0.2500, 0.2500, 0.2500, 0.2500, 0.0000, 0.0000, 0.0000, 0.0000],\n",
       "        [0.2000, 0.2000, 0.2000, 0.2000, 0.2000, 0.0000, 0.0000, 0.0000],\n",
       "        [0.1667, 0.1667, 0.1667, 0.1667, 0.1667, 0.1667, 0.0000, 0.0000],\n",
       "        [0.1429, 0.1429, 0.1429, 0.1429, 0.1429, 0.1429, 0.1429, 0.0000],\n",
       "        [0.1250, 0.1250, 0.1250, 0.1250, 0.1250, 0.1250, 0.1250, 0.1250]])"
      ]
     },
     "execution_count": 55,
     "metadata": {},
     "output_type": "execute_result"
    }
   ],
   "source": [
    "# self attention matrix\n",
    "import torch.nn. functional as F\n",
    "wei = torch.zeros((8, 8))\n",
    "tril = torch.tril(torch.ones(8, 8))\n",
    "wei = wei.masked_fill(tril == 0, float('-inf'))\n",
    "wei = F.softmax(wei, dim=1)\n",
    "wei"
   ]
  },
  {
   "cell_type": "code",
   "execution_count": 46,
   "metadata": {},
   "outputs": [
    {
     "name": "stdout",
     "output_type": "stream",
     "text": [
      "tensor([[-0.4667, -0.0413, -0.9375],\n",
      "        [-1.3139, -2.6856, -1.0064],\n",
      "        [-0.3339, -0.4239, -0.3574],\n",
      "        [-1.0960,  1.2213,  1.4331],\n",
      "        [ 0.7483,  0.1539, -0.0616],\n",
      "        [ 0.3406,  1.0816,  2.4460],\n",
      "        [ 0.5318,  0.1543,  0.3475],\n",
      "        [ 0.5813, -0.4829,  0.0697]]) tensor([[-0.4667, -0.0413, -0.9375],\n",
      "        [-0.8903, -1.3634, -0.9720],\n",
      "        [-0.7048, -1.0502, -0.7671],\n",
      "        [-0.8026, -0.4824, -0.2171],\n",
      "        [-0.4924, -0.3551, -0.1860],\n",
      "        [-0.3536, -0.1157,  0.2527],\n",
      "        [-0.2271, -0.0771,  0.2662],\n",
      "        [-0.1260, -0.1278,  0.2417]])\n"
     ]
    }
   ],
   "source": [
    "x = torch.randn(2, 8, 3) #(B, T, C)\n",
    "xbow = wei @ x"
   ]
  },
  {
   "cell_type": "code",
   "execution_count": 56,
   "metadata": {},
   "outputs": [],
   "source": [
    "n_embed =32\n",
    "class BigramLanguageModelV2(torch.nn.Module):\n",
    "    def __init__(self, vocab_size, n_embed):\n",
    "        super(BigramLanguageModel, self).__init__()\n",
    "        self.logits = torch.nn.Embedding(vocab_size, n_embed)\n",
    "        self.lm_head = torch.nn.Linear(n_embed, vocab_size)\n",
    "        \n",
    "    def forward(self, x, target):\n",
    "        token_emb = self.logits(x) # (B, T, C)\n",
    "        x = self.lm_head(token_emb) # (B, T, vocab_size)\n",
    "        loss = torch.nn.functional.cross_entropy(x.view(-1, vocab_size), target.view(-1)) \n",
    "        return x, loss\n",
    "    \n",
    "    def generate(self, x, length):\n",
    "        res = []\n",
    "        for i in range(length):\n",
    "            x = self.logits(x)\n",
    "            # sample from multinomial distribution\n",
    "            x = torch.multinomial(torch.nn.functional.softmax(x.view(-1), dim=0), 1)\n",
    "            res.append(x)\n",
    "        return torch.stack(res, dim=0)"
   ]
  },
  {
   "cell_type": "code",
   "execution_count": null,
   "metadata": {},
   "outputs": [],
   "source": []
  }
 ],
 "metadata": {
  "kernelspec": {
   "display_name": "Python 3",
   "language": "python",
   "name": "python3"
  },
  "language_info": {
   "codemirror_mode": {
    "name": "ipython",
    "version": 3
   },
   "file_extension": ".py",
   "mimetype": "text/x-python",
   "name": "python",
   "nbconvert_exporter": "python",
   "pygments_lexer": "ipython3",
   "version": "3.9.13"
  }
 },
 "nbformat": 4,
 "nbformat_minor": 2
}
